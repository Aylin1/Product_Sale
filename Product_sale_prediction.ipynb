{
 "cells": [
  {
   "cell_type": "code",
   "execution_count": 1,
   "id": "e50ac1f5-d755-4235-bcce-c9c7700c0fe2",
   "metadata": {},
   "outputs": [],
   "source": [
    "import pandas as pd\n",
    "import seaborn as sns\n",
    "import matplotlib.pyplot as plt\n",
    "from sklearn.preprocessing import power_transform\n",
    "from sklearn.preprocessing import MinMaxScaler\n",
    "from sklearn.cluster import KMeans\n",
    "import numpy as np"
   ]
  },
  {
   "cell_type": "code",
   "execution_count": null,
   "id": "806de8da-2b1e-4f90-bfe7-a4b6c42aa145",
   "metadata": {},
   "outputs": [],
   "source": []
  },
  {
   "cell_type": "code",
   "execution_count": null,
   "id": "b42cf05a-607a-483a-999f-5f149038a668",
   "metadata": {},
   "outputs": [],
   "source": []
  },
  {
   "cell_type": "code",
   "execution_count": 25,
   "id": "429f210d-0f09-4574-9de5-d6f435d1c632",
   "metadata": {},
   "outputs": [],
   "source": [
    "alt = pd.read_csv(\"assignment4.1a.csv\")"
   ]
  },
  {
   "cell_type": "code",
   "execution_count": 26,
   "id": "8ae69b73-fa7b-416e-b158-5b94c8f307cb",
   "metadata": {
    "tags": []
   },
   "outputs": [],
   "source": [
    "a = alt\n",
    "\n",
    "# convert time_date col to datetime64 dtype\n",
    "a['time_date'] = pd.to_datetime(a['Date'], format=\"%Y-%m-%d\")\n",
    "a.set_index('time_date', inplace=True)\n",
    "a.drop(\"Date\", axis=1, inplace=True)\n",
    "\n",
    "# Add columns with year, month, and weekday name\n",
    "a['Year'] = a.index.year\n",
    "a['Month'] = a.index.month\n",
    "a['Week'] = a.index.isocalendar().week\n",
    "\n",
    "a[\"StoreCode\"] = a[\"StoreCode\"].astype(\"int\")\n",
    "a[\"ProductCode\"] = a[\"ProductCode\"].astype(\"int\")"
   ]
  },
  {
   "cell_type": "code",
   "execution_count": 27,
   "id": "1aeaf369-cb06-450b-9c17-20a71c81cbd1",
   "metadata": {},
   "outputs": [],
   "source": [
    "promotion_dates = pd.read_csv(\"PromotionDates.csv\", parse_dates=True)"
   ]
  },
  {
   "cell_type": "code",
   "execution_count": 28,
   "id": "2836fa13-801b-454e-b3e4-9ff4888c2e97",
   "metadata": {},
   "outputs": [
    {
     "data": {
      "text/html": [
       "<div>\n",
       "<style scoped>\n",
       "    .dataframe tbody tr th:only-of-type {\n",
       "        vertical-align: middle;\n",
       "    }\n",
       "\n",
       "    .dataframe tbody tr th {\n",
       "        vertical-align: top;\n",
       "    }\n",
       "\n",
       "    .dataframe thead th {\n",
       "        text-align: right;\n",
       "    }\n",
       "</style>\n",
       "<table border=\"1\" class=\"dataframe\">\n",
       "  <thead>\n",
       "    <tr style=\"text-align: right;\">\n",
       "      <th></th>\n",
       "      <th>StartDate</th>\n",
       "      <th>EndDate</th>\n",
       "    </tr>\n",
       "    <tr>\n",
       "      <th>Period</th>\n",
       "      <th></th>\n",
       "      <th></th>\n",
       "    </tr>\n",
       "  </thead>\n",
       "  <tbody>\n",
       "    <tr>\n",
       "      <th>Promo1</th>\n",
       "      <td>2015-02-10</td>\n",
       "      <td>2015-02-17</td>\n",
       "    </tr>\n",
       "    <tr>\n",
       "      <th>Promo2</th>\n",
       "      <td>2015-03-15</td>\n",
       "      <td>2015-03-22</td>\n",
       "    </tr>\n",
       "    <tr>\n",
       "      <th>Promo3</th>\n",
       "      <td>2015-05-24</td>\n",
       "      <td>2015-06-01</td>\n",
       "    </tr>\n",
       "    <tr>\n",
       "      <th>Promo4</th>\n",
       "      <td>2015-06-21</td>\n",
       "      <td>2015-06-28</td>\n",
       "    </tr>\n",
       "    <tr>\n",
       "      <th>Promo5</th>\n",
       "      <td>2015-01-09</td>\n",
       "      <td>2015-06-09</td>\n",
       "    </tr>\n",
       "    <tr>\n",
       "      <th>Promo6</th>\n",
       "      <td>2015-11-20</td>\n",
       "      <td>2015-11-27</td>\n",
       "    </tr>\n",
       "  </tbody>\n",
       "</table>\n",
       "</div>"
      ],
      "text/plain": [
       "         StartDate    EndDate\n",
       "Period                       \n",
       "Promo1  2015-02-10 2015-02-17\n",
       "Promo2  2015-03-15 2015-03-22\n",
       "Promo3  2015-05-24 2015-06-01\n",
       "Promo4  2015-06-21 2015-06-28\n",
       "Promo5  2015-01-09 2015-06-09\n",
       "Promo6  2015-11-20 2015-11-27"
      ]
     },
     "execution_count": 28,
     "metadata": {},
     "output_type": "execute_result"
    }
   ],
   "source": [
    "b = promotion_dates\n",
    "\n",
    "b[\"StartDate\"] = pd.to_datetime(b[\"StartDate\"])\n",
    "b[\"EndDate\"] = pd.to_datetime(b[\"EndDate\"])\n",
    "b.set_index(\"Period\", inplace=True)\n",
    "b.astype(\"datetime64\")"
   ]
  },
  {
   "cell_type": "code",
   "execution_count": 29,
   "id": "5205bd42-ffae-4940-b7ee-13716fea4c45",
   "metadata": {},
   "outputs": [],
   "source": [
    "from numpy import logical_or\n",
    "mask = logical_or.reduce([\n",
    "    (a.index >= x.StartDate) & (a.index <= x.EndDate)\n",
    "    for i, x in promotion_dates.iterrows()])\n",
    "filtered = a[mask]"
   ]
  },
  {
   "cell_type": "code",
   "execution_count": 39,
   "id": "c25f01ff-2447-420b-8a05-81c0172d275b",
   "metadata": {},
   "outputs": [],
   "source": [
    "a['promotion'] = np.where(mask, 'yes', 'no')"
   ]
  },
  {
   "cell_type": "code",
   "execution_count": 40,
   "id": "31f1e7fe-be07-4dbb-b82f-21f62c892e99",
   "metadata": {},
   "outputs": [
    {
     "data": {
      "text/html": [
       "<div>\n",
       "<style scoped>\n",
       "    .dataframe tbody tr th:only-of-type {\n",
       "        vertical-align: middle;\n",
       "    }\n",
       "\n",
       "    .dataframe tbody tr th {\n",
       "        vertical-align: top;\n",
       "    }\n",
       "\n",
       "    .dataframe thead th {\n",
       "        text-align: right;\n",
       "    }\n",
       "</style>\n",
       "<table border=\"1\" class=\"dataframe\">\n",
       "  <thead>\n",
       "    <tr style=\"text-align: right;\">\n",
       "      <th></th>\n",
       "      <th>StoreCode</th>\n",
       "      <th>ProductCode</th>\n",
       "      <th>SalesQuantity</th>\n",
       "      <th>Year</th>\n",
       "      <th>Month</th>\n",
       "      <th>Week</th>\n",
       "    </tr>\n",
       "    <tr>\n",
       "      <th>time_date</th>\n",
       "      <th></th>\n",
       "      <th></th>\n",
       "      <th></th>\n",
       "      <th></th>\n",
       "      <th></th>\n",
       "      <th></th>\n",
       "    </tr>\n",
       "  </thead>\n",
       "  <tbody>\n",
       "    <tr>\n",
       "      <th>2015-01-09</th>\n",
       "      <td>23</td>\n",
       "      <td>9</td>\n",
       "      <td>1</td>\n",
       "      <td>2015</td>\n",
       "      <td>1</td>\n",
       "      <td>2</td>\n",
       "    </tr>\n",
       "    <tr>\n",
       "      <th>2015-01-09</th>\n",
       "      <td>36</td>\n",
       "      <td>9</td>\n",
       "      <td>1</td>\n",
       "      <td>2015</td>\n",
       "      <td>1</td>\n",
       "      <td>2</td>\n",
       "    </tr>\n",
       "    <tr>\n",
       "      <th>2015-01-09</th>\n",
       "      <td>56</td>\n",
       "      <td>9</td>\n",
       "      <td>1</td>\n",
       "      <td>2015</td>\n",
       "      <td>1</td>\n",
       "      <td>2</td>\n",
       "    </tr>\n",
       "    <tr>\n",
       "      <th>2015-01-09</th>\n",
       "      <td>147</td>\n",
       "      <td>9</td>\n",
       "      <td>1</td>\n",
       "      <td>2015</td>\n",
       "      <td>1</td>\n",
       "      <td>2</td>\n",
       "    </tr>\n",
       "    <tr>\n",
       "      <th>2015-01-09</th>\n",
       "      <td>188</td>\n",
       "      <td>9</td>\n",
       "      <td>1</td>\n",
       "      <td>2015</td>\n",
       "      <td>1</td>\n",
       "      <td>2</td>\n",
       "    </tr>\n",
       "  </tbody>\n",
       "</table>\n",
       "</div>"
      ],
      "text/plain": [
       "            StoreCode  ProductCode  SalesQuantity  Year  Month  Week\n",
       "time_date                                                           \n",
       "2015-01-09         23            9              1  2015      1     2\n",
       "2015-01-09         36            9              1  2015      1     2\n",
       "2015-01-09         56            9              1  2015      1     2\n",
       "2015-01-09        147            9              1  2015      1     2\n",
       "2015-01-09        188            9              1  2015      1     2"
      ]
     },
     "execution_count": 40,
     "metadata": {},
     "output_type": "execute_result"
    }
   ],
   "source": [
    "filtered.head()"
   ]
  },
  {
   "cell_type": "code",
   "execution_count": 41,
   "id": "4fd4e482-fe60-4e47-9430-2e3affa679b1",
   "metadata": {},
   "outputs": [
    {
     "data": {
      "text/html": [
       "<div>\n",
       "<style scoped>\n",
       "    .dataframe tbody tr th:only-of-type {\n",
       "        vertical-align: middle;\n",
       "    }\n",
       "\n",
       "    .dataframe tbody tr th {\n",
       "        vertical-align: top;\n",
       "    }\n",
       "\n",
       "    .dataframe thead th {\n",
       "        text-align: right;\n",
       "    }\n",
       "</style>\n",
       "<table border=\"1\" class=\"dataframe\">\n",
       "  <thead>\n",
       "    <tr style=\"text-align: right;\">\n",
       "      <th></th>\n",
       "      <th>StoreCode</th>\n",
       "      <th>ProductCode</th>\n",
       "      <th>SalesQuantity</th>\n",
       "      <th>Year</th>\n",
       "      <th>Month</th>\n",
       "      <th>Week</th>\n",
       "      <th>promotion</th>\n",
       "    </tr>\n",
       "    <tr>\n",
       "      <th>time_date</th>\n",
       "      <th></th>\n",
       "      <th></th>\n",
       "      <th></th>\n",
       "      <th></th>\n",
       "      <th></th>\n",
       "      <th></th>\n",
       "      <th></th>\n",
       "    </tr>\n",
       "  </thead>\n",
       "  <tbody>\n",
       "    <tr>\n",
       "      <th>2015-01-01</th>\n",
       "      <td>8</td>\n",
       "      <td>9</td>\n",
       "      <td>-1</td>\n",
       "      <td>2015</td>\n",
       "      <td>1</td>\n",
       "      <td>1</td>\n",
       "      <td>no</td>\n",
       "    </tr>\n",
       "    <tr>\n",
       "      <th>2015-01-01</th>\n",
       "      <td>131</td>\n",
       "      <td>9</td>\n",
       "      <td>1</td>\n",
       "      <td>2015</td>\n",
       "      <td>1</td>\n",
       "      <td>1</td>\n",
       "      <td>no</td>\n",
       "    </tr>\n",
       "    <tr>\n",
       "      <th>2015-01-01</th>\n",
       "      <td>144</td>\n",
       "      <td>9</td>\n",
       "      <td>2</td>\n",
       "      <td>2015</td>\n",
       "      <td>1</td>\n",
       "      <td>1</td>\n",
       "      <td>no</td>\n",
       "    </tr>\n",
       "    <tr>\n",
       "      <th>2015-01-01</th>\n",
       "      <td>203</td>\n",
       "      <td>9</td>\n",
       "      <td>2</td>\n",
       "      <td>2015</td>\n",
       "      <td>1</td>\n",
       "      <td>1</td>\n",
       "      <td>no</td>\n",
       "    </tr>\n",
       "    <tr>\n",
       "      <th>2015-01-01</th>\n",
       "      <td>256</td>\n",
       "      <td>9</td>\n",
       "      <td>0</td>\n",
       "      <td>2015</td>\n",
       "      <td>1</td>\n",
       "      <td>1</td>\n",
       "      <td>no</td>\n",
       "    </tr>\n",
       "  </tbody>\n",
       "</table>\n",
       "</div>"
      ],
      "text/plain": [
       "            StoreCode  ProductCode  SalesQuantity  Year  Month  Week promotion\n",
       "time_date                                                                     \n",
       "2015-01-01          8            9             -1  2015      1     1        no\n",
       "2015-01-01        131            9              1  2015      1     1        no\n",
       "2015-01-01        144            9              2  2015      1     1        no\n",
       "2015-01-01        203            9              2  2015      1     1        no\n",
       "2015-01-01        256            9              0  2015      1     1        no"
      ]
     },
     "execution_count": 41,
     "metadata": {},
     "output_type": "execute_result"
    }
   ],
   "source": [
    "a.head()"
   ]
  },
  {
   "cell_type": "code",
   "execution_count": null,
   "id": "1eda2fd8-a452-4bb1-8d99-19eb90431184",
   "metadata": {},
   "outputs": [],
   "source": [
    "filtered.shape"
   ]
  },
  {
   "cell_type": "code",
   "execution_count": null,
   "id": "bf9a230c-70a2-42c6-b0b0-f211b01eb6db",
   "metadata": {},
   "outputs": [],
   "source": [
    "alt.shape"
   ]
  },
  {
   "cell_type": "code",
   "execution_count": 49,
   "id": "e4ea343f-f743-47b0-bae7-74df26b24785",
   "metadata": {},
   "outputs": [],
   "source": [
    "product_weekly_sum = a.groupby([\"Week\", \"ProductCode\",\"promotion\"])[\"SalesQuantity\"].sum().to_frame()\n",
    "store = a.groupby([\"Week\", \"ProductCode\"])[\"StoreCode\"].unique().to_frame()\n",
    "product_weekly_sum[\"store_count\"] = store.StoreCode.str.len().to_frame()\n",
    "product_weekly_sum[\"weekly_sale\"] = product_weekly_sum[\"SalesQuantity\"] / product_weekly_sum[\"store_count\"]"
   ]
  },
  {
   "cell_type": "code",
   "execution_count": 50,
   "id": "dc83984e-a89b-41fc-a832-42e7ca2d965a",
   "metadata": {},
   "outputs": [
    {
     "data": {
      "text/html": [
       "<div>\n",
       "<style scoped>\n",
       "    .dataframe tbody tr th:only-of-type {\n",
       "        vertical-align: middle;\n",
       "    }\n",
       "\n",
       "    .dataframe tbody tr th {\n",
       "        vertical-align: top;\n",
       "    }\n",
       "\n",
       "    .dataframe thead th {\n",
       "        text-align: right;\n",
       "    }\n",
       "</style>\n",
       "<table border=\"1\" class=\"dataframe\">\n",
       "  <thead>\n",
       "    <tr style=\"text-align: right;\">\n",
       "      <th></th>\n",
       "      <th></th>\n",
       "      <th></th>\n",
       "      <th>weekly_sale</th>\n",
       "    </tr>\n",
       "    <tr>\n",
       "      <th>Week</th>\n",
       "      <th>ProductCode</th>\n",
       "      <th>promotion</th>\n",
       "      <th></th>\n",
       "    </tr>\n",
       "  </thead>\n",
       "  <tbody>\n",
       "    <tr>\n",
       "      <th rowspan=\"5\" valign=\"top\">1</th>\n",
       "      <th>1</th>\n",
       "      <th>no</th>\n",
       "      <td>3.980392</td>\n",
       "    </tr>\n",
       "    <tr>\n",
       "      <th>2</th>\n",
       "      <th>no</th>\n",
       "      <td>2.340000</td>\n",
       "    </tr>\n",
       "    <tr>\n",
       "      <th>3</th>\n",
       "      <th>no</th>\n",
       "      <td>2.810811</td>\n",
       "    </tr>\n",
       "    <tr>\n",
       "      <th>4</th>\n",
       "      <th>no</th>\n",
       "      <td>2.895833</td>\n",
       "    </tr>\n",
       "    <tr>\n",
       "      <th>5</th>\n",
       "      <th>no</th>\n",
       "      <td>2.963636</td>\n",
       "    </tr>\n",
       "  </tbody>\n",
       "</table>\n",
       "</div>"
      ],
      "text/plain": [
       "                            weekly_sale\n",
       "Week ProductCode promotion             \n",
       "1    1           no            3.980392\n",
       "     2           no            2.340000\n",
       "     3           no            2.810811\n",
       "     4           no            2.895833\n",
       "     5           no            2.963636"
      ]
     },
     "execution_count": 50,
     "metadata": {},
     "output_type": "execute_result"
    }
   ],
   "source": [
    "product_weekly_sum = product_weekly_sum[\"weekly_sale\"].to_frame()\n",
    "product_weekly_sum.head()"
   ]
  },
  {
   "cell_type": "code",
   "execution_count": 51,
   "id": "323441ec-5438-4250-85f4-f5199586adb3",
   "metadata": {},
   "outputs": [],
   "source": [
    "X_transformed = power_transform(product_weekly_sum, method='yeo-johnson')\n",
    "# Instantiate the object\n",
    "scaler = MinMaxScaler()\n",
    "# Fit and transform the data\n",
    "X_transformed = scaler.fit_transform(X_transformed)"
   ]
  },
  {
   "cell_type": "code",
   "execution_count": 52,
   "id": "8dbf164e-8caf-4982-9b70-ffb49b42be02",
   "metadata": {},
   "outputs": [
    {
     "data": {
      "image/png": "[encoded data removed]",
      "text/plain": [
       "<Figure size 432x288 with 1 Axes>"
      ]
     },
     "metadata": {
      "needs_background": "light"
     },
     "output_type": "display_data"
    }
   ],
   "source": [
    "# To make sure our work becomes reproducible\n",
    "inertia = []\n",
    "# Iterating the process\n",
    "for i in range(2, 10):\n",
    "    # Instantiate the model\n",
    "    model = KMeans(n_clusters=i)\n",
    "    # Fit The Model\n",
    "    model.fit(X_transformed)\n",
    "    # Extract the error of the model\n",
    "    inertia.append(model.inertia_)  # Visualize the model\n",
    "sns.pointplot(x=list(range(2, 10)), y=inertia)\n",
    "plt.title('SSE on K-Means based on # of clusters')\n",
    "plt.show()"
   ]
  },
  {
   "cell_type": "code",
   "execution_count": 53,
   "id": "bdf6d6ae-1190-4d8b-aced-c3a66297f241",
   "metadata": {},
   "outputs": [],
   "source": [
    "model = KMeans(n_clusters=3)  # Fit the model\n",
    "model.fit(X_transformed)  # Predict the cluster from the data and save it\n",
    "cluster = model.predict(X_transformed)\n",
    "# Add to the dataframe and show the result\n",
    "product_weekly_sum['cluster'] = cluster\n",
    "product_weekly_sum.reset_index(inplace=True)"
   ]
  },
  {
   "cell_type": "code",
   "execution_count": 56,
   "id": "a685d84c-5433-4275-8904-1e72a4aec180",
   "metadata": {},
   "outputs": [
    {
     "data": {
      "text/plain": [
       "<seaborn.axisgrid.FacetGrid at 0x7f14170c56d8>"
      ]
     },
     "execution_count": 56,
     "metadata": {},
     "output_type": "execute_result"
    },
    {
     "data": {
      "image/png": "[encoded data removed]",
      "text/plain": [
       "<Figure size 648x216 with 3 Axes>"
      ]
     },
     "metadata": {
      "needs_background": "light"
     },
     "output_type": "display_data"
    }
   ],
   "source": [
    "store_weekly_sum=filtered.groupby([\"Week\", \"StoreCode\"])[\"SalesQuantity\"].sum().to_frame()\n",
    "\n",
    "g = sns.FacetGrid(product_weekly_sum, col=\"cluster\", margin_titles=True, height=3)\n",
    "g.map(plt.scatter, \"Week\", \"weekly_sale\", color=\"#338844\", edgecolor=\"white\", s=50, lw=1)\n",
    "g.set(xlim=(0, 30), ylim=(0, 70))"
   ]
  },
  {
   "cell_type": "code",
   "execution_count": 57,
   "id": "15c481dc-5d84-456b-908d-d9559bd075ef",
   "metadata": {},
   "outputs": [
    {
     "name": "stderr",
     "output_type": "stream",
     "text": [
      "/home/jupyterlab/conda/envs/python/lib/python3.6/site-packages/seaborn/axisgrid.py:715: UserWarning: Using the barplot function without specifying `order` is likely to produce an incorrect plot.\n",
      "  warnings.warn(warning)\n"
     ]
    },
    {
     "data": {
      "text/plain": [
       "<seaborn.axisgrid.FacetGrid at 0x7f1416f87dd8>"
      ]
     },
     "execution_count": 57,
     "metadata": {},
     "output_type": "execute_result"
    },
    {
     "data": {
      "image/png": "[encoded data removed]",
      "text/plain": [
       "<Figure size 460.8x288 with 2 Axes>"
      ]
     },
     "metadata": {
      "needs_background": "light"
     },
     "output_type": "display_data"
    }
   ],
   "source": [
    "g = sns.FacetGrid(product_weekly_sum, col=\"promotion\", height=4, aspect=.8)\n",
    "g.map(sns.barplot, \"cluster\", \"weekly_sale\")"
   ]
  },
  {
   "cell_type": "code",
   "execution_count": 59,
   "id": "25be228c-2b53-418c-bdf2-89e0c4bc85f5",
   "metadata": {},
   "outputs": [
    {
     "name": "stderr",
     "output_type": "stream",
     "text": [
      "/home/jupyterlab/conda/envs/python/lib/python3.6/site-packages/seaborn/axisgrid.py:715: UserWarning: Using the barplot function without specifying `order` is likely to produce an incorrect plot.\n",
      "  warnings.warn(warning)\n"
     ]
    },
    {
     "data": {
      "text/plain": [
       "<seaborn.axisgrid.FacetGrid at 0x7f1416e30d68>"
      ]
     },
     "execution_count": 59,
     "metadata": {},
     "output_type": "execute_result"
    },
    {
     "data": {
      "image/png": "[encoded data removed]",
      "text/plain": [
       "<Figure size 460.8x288 with 2 Axes>"
      ]
     },
     "metadata": {
      "needs_background": "light"
     },
     "output_type": "display_data"
    }
   ],
   "source": [
    "g = sns.FacetGrid(product_weekly_sum, col=\"promotion\", height=4, aspect=.8)\n",
    "g.map(sns.barplot, \"cluster\", \"weekly_sale\")"
   ]
  },
  {
   "cell_type": "code",
   "execution_count": 60,
   "id": "1dcdcd6b-192d-4b52-902e-e115515476c4",
   "metadata": {},
   "outputs": [
    {
     "data": {
      "text/plain": [
       "<seaborn.axisgrid.FacetGrid at 0x7f1416ed6208>"
      ]
     },
     "execution_count": 60,
     "metadata": {},
     "output_type": "execute_result"
    },
    {
     "data": {
      "image/png": "[encoded data removed]",
      "text/plain": [
       "<Figure size 489.6x367.2 with 3 Axes>"
      ]
     },
     "metadata": {
      "needs_background": "light"
     },
     "output_type": "display_data"
    }
   ],
   "source": [
    "g = sns.FacetGrid(product_weekly_sum, row=\"cluster\",\n",
    "                  height=1.7, aspect=4,)\n",
    "g.map(sns.distplot, \"weekly_sale\", hist=False, rug=True)"
   ]
  },
  {
   "cell_type": "code",
   "execution_count": 62,
   "id": "0e65e250-f43c-4555-a7d5-796e9306f91e",
   "metadata": {
    "tags": []
   },
   "outputs": [
    {
     "name": "stderr",
     "output_type": "stream",
     "text": [
      "/home/jupyterlab/conda/envs/python/lib/python3.6/site-packages/seaborn/categorical.py:3666: UserWarning: The `factorplot` function has been renamed to `catplot`. The original name will be removed in a future release. Please update your code. Note that the default `kind` in `factorplot` (`'point'`) has changed `'strip'` in `catplot`.\n",
      "  warnings.warn(msg)\n"
     ]
    },
    {
     "data": {
      "text/plain": [
       "<seaborn.axisgrid.FacetGrid at 0x7f1416832240>"
      ]
     },
     "execution_count": 62,
     "metadata": {},
     "output_type": "execute_result"
    },
    {
     "data": {
      "image/png": "[encoded data removed]",
      "text/plain": [
       "<Figure size 402.375x360 with 1 Axes>"
      ]
     },
     "metadata": {
      "needs_background": "light"
     },
     "output_type": "display_data"
    }
   ],
   "source": [
    "sns.factorplot(data= product_weekly_sum, \n",
    "               x= 'promotion',\n",
    "               y= 'weekly_sale',\n",
    "              hue=\"cluster\")"
   ]
  },
  {
   "cell_type": "code",
   "execution_count": 63,
   "id": "fd405f4b-1ddb-4acf-8a12-063cb84e2428",
   "metadata": {},
   "outputs": [
    {
     "data": {
      "text/html": [
       "<div>\n",
       "<style scoped>\n",
       "    .dataframe tbody tr th:only-of-type {\n",
       "        vertical-align: middle;\n",
       "    }\n",
       "\n",
       "    .dataframe tbody tr th {\n",
       "        vertical-align: top;\n",
       "    }\n",
       "\n",
       "    .dataframe thead th {\n",
       "        text-align: right;\n",
       "    }\n",
       "</style>\n",
       "<table border=\"1\" class=\"dataframe\">\n",
       "  <thead>\n",
       "    <tr style=\"text-align: right;\">\n",
       "      <th></th>\n",
       "      <th>Week</th>\n",
       "      <th>ProductCode</th>\n",
       "      <th>promotion</th>\n",
       "      <th>weekly_sale</th>\n",
       "      <th>cluster</th>\n",
       "    </tr>\n",
       "  </thead>\n",
       "  <tbody>\n",
       "    <tr>\n",
       "      <th>0</th>\n",
       "      <td>1</td>\n",
       "      <td>1</td>\n",
       "      <td>no</td>\n",
       "      <td>3.980392</td>\n",
       "      <td>0</td>\n",
       "    </tr>\n",
       "    <tr>\n",
       "      <th>1</th>\n",
       "      <td>1</td>\n",
       "      <td>2</td>\n",
       "      <td>no</td>\n",
       "      <td>2.340000</td>\n",
       "      <td>2</td>\n",
       "    </tr>\n",
       "    <tr>\n",
       "      <th>2</th>\n",
       "      <td>1</td>\n",
       "      <td>3</td>\n",
       "      <td>no</td>\n",
       "      <td>2.810811</td>\n",
       "      <td>2</td>\n",
       "    </tr>\n",
       "    <tr>\n",
       "      <th>3</th>\n",
       "      <td>1</td>\n",
       "      <td>4</td>\n",
       "      <td>no</td>\n",
       "      <td>2.895833</td>\n",
       "      <td>2</td>\n",
       "    </tr>\n",
       "    <tr>\n",
       "      <th>4</th>\n",
       "      <td>1</td>\n",
       "      <td>5</td>\n",
       "      <td>no</td>\n",
       "      <td>2.963636</td>\n",
       "      <td>2</td>\n",
       "    </tr>\n",
       "  </tbody>\n",
       "</table>\n",
       "</div>"
      ],
      "text/plain": [
       "   Week  ProductCode promotion  weekly_sale  cluster\n",
       "0     1            1        no     3.980392        0\n",
       "1     1            2        no     2.340000        2\n",
       "2     1            3        no     2.810811        2\n",
       "3     1            4        no     2.895833        2\n",
       "4     1            5        no     2.963636        2"
      ]
     },
     "execution_count": 63,
     "metadata": {},
     "output_type": "execute_result"
    }
   ],
   "source": [
    "product_weekly_sum.head()"
   ]
  },
  {
   "cell_type": "code",
   "execution_count": null,
   "id": "513e9081-04ef-4400-87cf-a257df229b6e",
   "metadata": {},
   "outputs": [],
   "source": []
  }
 ],
 "metadata": {
  "kernelspec": {
   "display_name": "Python",
   "language": "python",
   "name": "conda-env-python-py"
  },
  "language_info": {
   "codemirror_mode": {
    "name": "ipython",
    "version": 3
   },
   "file_extension": ".py",
   "mimetype": "text/x-python",
   "name": "python",
   "nbconvert_exporter": "python",
   "pygments_lexer": "ipython3",
   "version": "3.6.13"
  }
 },
 "nbformat": 4,
 "nbformat_minor": 5
}
